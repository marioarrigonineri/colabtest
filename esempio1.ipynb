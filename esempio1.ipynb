{
  "nbformat": 4,
  "nbformat_minor": 0,
  "metadata": {
    "colab": {
      "provenance": [],
      "mount_file_id": "1w95ILoZ6k2D0wk-9c-XcxrER_8Mreu9w",
      "authorship_tag": "ABX9TyMT9iB4pFpQcjQyYAxUck+b",
      "include_colab_link": true
    },
    "kernelspec": {
      "name": "python3",
      "display_name": "Python 3"
    },
    "language_info": {
      "name": "python"
    }
  },
  "cells": [
    {
      "cell_type": "markdown",
      "metadata": {
        "id": "view-in-github",
        "colab_type": "text"
      },
      "source": [
        "<a href=\"https://colab.research.google.com/github/marioarrigonineri/colabtest/blob/main/esempio1.ipynb\" target=\"_parent\"><img src=\"https://colab.research.google.com/assets/colab-badge.svg\" alt=\"Open In Colab\"/></a>"
      ]
    },
    {
      "cell_type": "code",
      "execution_count": null,
      "metadata": {
        "id": "bXzBWMsDllHU"
      },
      "outputs": [],
      "source": []
    },
    {
      "cell_type": "markdown",
      "source": [
        "#OK\n"
      ],
      "metadata": {
        "id": "xduGKj0Elnsf"
      }
    },
    {
      "cell_type": "code",
      "source": [
        "import os\n",
        "os.chdir(\"/content\")\n",
        "for f in os.listdir(\".\"):\n",
        "  print(f)"
      ],
      "metadata": {
        "colab": {
          "base_uri": "https://localhost:8080/"
        },
        "id": "0Cjs1gRVloxU",
        "outputId": "e5d0475f-da95-4cc7-dde5-f651387c24b3"
      },
      "execution_count": null,
      "outputs": [
        {
          "output_type": "stream",
          "name": "stdout",
          "text": [
            ".config\n",
            "drive\n",
            "p9.png\n",
            "sample_data\n"
          ]
        }
      ]
    },
    {
      "cell_type": "code",
      "source": [
        "import os\n",
        "os.chdir(\"/content/drive/MyDrive/CRETA\")\n",
        "for f in os.listdir(\".\"):\n",
        "  print(f)\n",
        "  if os.path.isfile(f):\n",
        "    with open(f) as ff:\n",
        "      print(ff)\n",
        "\n"
      ],
      "metadata": {
        "colab": {
          "base_uri": "https://localhost:8080/"
        },
        "id": "lkn7gnWSmKm-",
        "outputId": "eda71279-fc62-4df2-9bb5-b3a4a41decdf"
      },
      "execution_count": null,
      "outputs": [
        {
          "output_type": "stream",
          "name": "stdout",
          "text": [
            "Posta di NOVA Semantics - Fwd_ Ricordati del check-in per il tuo volo Milano - Creta.pdf\n",
            "<_io.TextIOWrapper name='Posta di NOVA Semantics - Fwd_ Ricordati del check-in per il tuo volo Milano - Creta.pdf' mode='r' encoding='UTF-8'>\n",
            "boarding-pass.pdf\n",
            "<_io.TextIOWrapper name='boarding-pass.pdf' mode='r' encoding='UTF-8'>\n",
            "Posta di NOVA Semantics - Fwd_ INFORMAZIONI IMPORTANTI PER IL VOSTRO SOGGIORNO A CRETA.pdf\n",
            "<_io.TextIOWrapper name='Posta di NOVA Semantics - Fwd_ INFORMAZIONI IMPORTANTI PER IL VOSTRO SOGGIORNO A CRETA.pdf' mode='r' encoding='UTF-8'>\n",
            "Posta di NOVA Semantics - Fwd_ Prenotazione lastminute_.com, Volo + Hotel - Sissi.pdf\n",
            "<_io.TextIOWrapper name='Posta di NOVA Semantics - Fwd_ Prenotazione lastminute_.com, Volo + Hotel - Sissi.pdf' mode='r' encoding='UTF-8'>\n",
            "tempDocumenti di viaggio-3499983.pdf\n",
            "<_io.TextIOWrapper name='tempDocumenti di viaggio-3499983.pdf' mode='r' encoding='UTF-8'>\n",
            "RITORNO boarding-pass (1).pdf\n",
            "<_io.TextIOWrapper name='RITORNO boarding-pass (1).pdf' mode='r' encoding='UTF-8'>\n",
            "per rimborsi\n"
          ]
        }
      ]
    }
  ]
}